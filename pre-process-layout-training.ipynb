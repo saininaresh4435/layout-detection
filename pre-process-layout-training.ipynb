{
 "cells": [
  {
   "cell_type": "code",
   "execution_count": 80,
   "id": "13eaa6e2",
   "metadata": {},
   "outputs": [],
   "source": [
    "import os,glob,cv2,shutil\n",
    "import xml.etree.ElementTree as ET"
   ]
  },
  {
   "cell_type": "code",
   "execution_count": 24,
   "id": "5f44250b",
   "metadata": {},
   "outputs": [],
   "source": [
    "data_path=\"/Users/nareshsaini/Desktop/pw/ocr-toolkit-ocr_toolkit/layout-model-training/data/tmp/batch2/*/*/\""
   ]
  },
  {
   "cell_type": "markdown",
   "id": "6f8f7874",
   "metadata": {},
   "source": [
    "# rename file/"
   ]
  },
  {
   "cell_type": "code",
   "execution_count": 63,
   "id": "761d36d7",
   "metadata": {},
   "outputs": [],
   "source": [
    "import os,uuid\n",
    "save_path=\"/Users/nareshsaini/Desktop/pw/ocr-toolkit-ocr_toolkit/layout-model-training/data/tmp/rename_file/\"\n",
    "def convert_image(data_path):\n",
    "    img_list = glob.glob(data_path+\"*.png\")\n",
    "    for img_path in img_list:\n",
    "        img_name = img_path.split(\"/\")[-1].split(\".png\")[0]\n",
    "        prefix = str(uuid.uuid4())\n",
    "        name = img_path.split(\".png\")[0]+\"__\"+prefix+\".png\"\n",
    "        xml_name = img_path.split(\".png\")[0]+\"__\"+prefix+\".xml\"\n",
    "        xml_path = img_path.split(\".png\")[0]+\".xml\"\n",
    "        os.rename(img_path,name)\n",
    "        os.rename(xml_path,xml_name)\n",
    "        #print(save_path)\n",
    "        #print(img_path)\n",
    "        #cv2.imwrite(save_path,img)\n",
    "        "
   ]
  },
  {
   "cell_type": "code",
   "execution_count": 64,
   "id": "6124e2a8",
   "metadata": {},
   "outputs": [],
   "source": [
    "convert_image(data_path)"
   ]
  },
  {
   "cell_type": "markdown",
   "id": "efb8afb5",
   "metadata": {},
   "source": [
    "# convert image type"
   ]
  },
  {
   "cell_type": "code",
   "execution_count": 37,
   "id": "9c0f3a31",
   "metadata": {},
   "outputs": [],
   "source": [
    "save_path=\"/Users/nareshsaini/Desktop/pw/ocr-toolkit-ocr_toolkit/layout-model-training/data/tmp/rename_file/\"\n",
    "def convert_image(data_path):\n",
    "    img_list = glob.glob(data_path+\"*.PNG\")\n",
    "    for img_path in img_list:\n",
    "        img = cv2.imread(img_path)\n",
    "        save_path=img_path.split(\".PNG\")[0]+\".png\"\n",
    "        #print(save_path)\n",
    "        #print(img_path)\n",
    "        #cv2.imwrite(save_path,img)\n",
    "        "
   ]
  },
  {
   "cell_type": "code",
   "execution_count": 38,
   "id": "5d643ee1",
   "metadata": {},
   "outputs": [
    {
     "name": "stdout",
     "output_type": "stream",
     "text": [
      "0\n"
     ]
    }
   ],
   "source": [
    "convert_image(data_path)"
   ]
  },
  {
   "cell_type": "markdown",
   "id": "160084b3",
   "metadata": {},
   "source": [
    "# delete images for which xml is not present"
   ]
  },
  {
   "cell_type": "code",
   "execution_count": 59,
   "id": "1a3cd2f0",
   "metadata": {},
   "outputs": [],
   "source": [
    "def delete_images(data_path):\n",
    "    count=0\n",
    "    img_list = glob.glob(data_path+\"*.xml\")\n",
    "    for img in glob.glob(data_path+\"*.png\"):\n",
    "        \n",
    "        xml_path=img.split(\".png\")[0]+\".xml\"\n",
    "        #print(img_path)\n",
    "        if xml_path  not in img_list:\n",
    "            #print(xml)\n",
    "            os.remove(img)\n",
    "            count+=1\n",
    "    print(count)"
   ]
  },
  {
   "cell_type": "code",
   "execution_count": 60,
   "id": "866fef23",
   "metadata": {},
   "outputs": [
    {
     "name": "stdout",
     "output_type": "stream",
     "text": [
      "0\n"
     ]
    }
   ],
   "source": [
    "delete_images(data_path)"
   ]
  },
  {
   "cell_type": "markdown",
   "id": "f3a61a1d",
   "metadata": {},
   "source": [
    "# save images"
   ]
  },
  {
   "cell_type": "code",
   "execution_count": 69,
   "id": "e01766d4",
   "metadata": {},
   "outputs": [],
   "source": [
    "img_path=\"/Users/nareshsaini/Desktop/pw/ocr-toolkit-ocr_toolkit/layout-model-training/data/prima/Images/\"\n",
    "xml_path=\"/Users/nareshsaini/Desktop/pw/ocr-toolkit-ocr_toolkit/layout-model-training/data/prima/XML/\"\n",
    "src_img_path=\"/Users/nareshsaini/Desktop/pw/ocr-toolkit-ocr_toolkit/layout-model-training/data/tmp/batch2/*/*/\"\n",
    "def rename_images(data_path):\n",
    "    for img in glob.glob(data_path+\"*.png\"):\n",
    "        shutil.copy(img,img_path)\n",
    "        xml=img.split(\".png\")[0]+\".xml\"\n",
    "        shutil.copy(xml,xml_path)\n",
    "    \n",
    "    "
   ]
  },
  {
   "cell_type": "code",
   "execution_count": 70,
   "id": "ba380782",
   "metadata": {},
   "outputs": [],
   "source": [
    "rename_images(src_img_path)"
   ]
  },
  {
   "cell_type": "markdown",
   "id": "70a31c46",
   "metadata": {},
   "source": [
    "# read and modify xml file"
   ]
  },
  {
   "cell_type": "code",
   "execution_count": 126,
   "id": "bd7cd2a0",
   "metadata": {},
   "outputs": [],
   "source": [
    "def update_xml(data_path):\n",
    "    for xml_path in glob.glob(data_path+\"*.xml\"):\n",
    "        print(xml_path)\n",
    "        root = ET.parse(xml_path)\n",
    "        root.findall('path')[0].text = xml_path.split(\"XML\")[0]+\"Images/\"+xml_path.split(\"/\")[-1].split(\".xml\")[0]+\".png\"\n",
    "        #print(root.findall('path')[0].text)\n",
    "        root.findall('filename')[0].text = xml_path.split(\"/\")[-1].split(\".xml\")[0]+\".png\"\n",
    "        #print(root.findall('filename')[0].text)\n",
    "        objects = root.findall('object')\n",
    "        count_ms = 0\n",
    "        math_text = []\n",
    "        for object in objects:\n",
    "            #print(object)\n",
    "            for i in object:\n",
    "                if i.tag == 'name':\n",
    "                    label = i.text\n",
    "                    i.text='MathRegion'\n",
    "                    #print(i.text)\n",
    "        \n",
    "        root.write(xml_path)\n",
    "        #break\n",
    "                "
   ]
  },
  {
   "cell_type": "code",
   "execution_count": 127,
   "id": "f193f42b",
   "metadata": {},
   "outputs": [
    {
     "name": "stdout",
     "output_type": "stream",
     "text": [
      "/Users/nareshsaini/Desktop/pw/ocr-toolkit-ocr_toolkit/layout-model-training/data/prima/XML/14__7d7ec17b-507d-405b-a9c0-cc4bfd86afbb.xml\n",
      "/Users/nareshsaini/Desktop/pw/ocr-toolkit-ocr_toolkit/layout-model-training/data/prima/XML/23__6e2d6965-510a-44e1-9204-eea7f45d9b54__ce79d717-ba46-4be7-8593-27f143d3aeb4.xml\n",
      "/Users/nareshsaini/Desktop/pw/ocr-toolkit-ocr_toolkit/layout-model-training/data/prima/XML/20__ca1d136b-3b3b-4b2e-97e4-21d8af3f61ca__60423be5-5904-48e1-8599-bb89ee2017e2.xml\n",
      "/Users/nareshsaini/Desktop/pw/ocr-toolkit-ocr_toolkit/layout-model-training/data/prima/XML/4__e14cf14b-6862-4b25-9672-128986909047__c899adae-bdf0-4abd-901a-e9dd8d1dd543__42cead0b-f984-4ff7-844e-5b3974983219.xml\n",
      "/Users/nareshsaini/Desktop/pw/ocr-toolkit-ocr_toolkit/layout-model-training/data/prima/XML/3__8580fb1e-2b55-493f-a013-f9390d7f6131__e73ffbc8-26c8-4a0a-9b32-c3ef2a100aff.xml\n",
      "/Users/nareshsaini/Desktop/pw/ocr-toolkit-ocr_toolkit/layout-model-training/data/prima/XML/36__ff7e810a-dfa1-48e3-b319-966e10b3aa8b__9bf54a8a-16ea-4563-9914-e16e3c576153__04ed36c1-3e58-44be-927c-a4cb4cc3d548.xml\n",
      "/Users/nareshsaini/Desktop/pw/ocr-toolkit-ocr_toolkit/layout-model-training/data/prima/XML/9__d0f233ed-03ee-44a8-a000-5664d225335b__088d8897-99b9-465c-a55c-b52f15870239__63030dba-e450-4398-a7db-d559432d177c.xml\n",
      "/Users/nareshsaini/Desktop/pw/ocr-toolkit-ocr_toolkit/layout-model-training/data/prima/XML/4__099fea85-9000-4622-b233-17c9d27deae6__8a9ab9d8-5396-4e1f-9cfc-d8cade6fcf48.xml\n",
      "/Users/nareshsaini/Desktop/pw/ocr-toolkit-ocr_toolkit/layout-model-training/data/prima/XML/54__145ac22d-4994-4cf2-aecd-aec4d324f602__8dc5037a-53bd-42ec-946b-83ff82d87793__85349857-3104-4f21-8300-57d329874eae.xml\n",
      "/Users/nareshsaini/Desktop/pw/ocr-toolkit-ocr_toolkit/layout-model-training/data/prima/XML/16__62b2c1ce-9287-4dc6-bb35-36274bd1ace9__2b0ec5d4-b441-406e-ada9-8c67e76fa189__59f2598b-062d-4ffb-b7a3-e96c830353af.xml\n",
      "/Users/nareshsaini/Desktop/pw/ocr-toolkit-ocr_toolkit/layout-model-training/data/prima/XML/19__8579553f-6e95-4ba1-993d-2d35de7e12af__c398ea22-ff4c-4d91-82fc-2abdf63b87c4.xml\n",
      "/Users/nareshsaini/Desktop/pw/ocr-toolkit-ocr_toolkit/layout-model-training/data/prima/XML/3__857c3b15-8ece-491b-8278-48a9553f5184__650abef8-8fc8-40e8-9afa-8ee403e48b65.xml\n",
      "/Users/nareshsaini/Desktop/pw/ocr-toolkit-ocr_toolkit/layout-model-training/data/prima/XML/3__b6a64edc-84b2-42f3-96ed-050c67725166__77b17b25-0ae2-4976-918b-d2fbc4c4b0d6.xml\n",
      "/Users/nareshsaini/Desktop/pw/ocr-toolkit-ocr_toolkit/layout-model-training/data/prima/XML/9__00f6687e-6d76-49a2-ae2d-cd86d71ece06__88bedc51-aa03-4d5f-9eac-927928fb2071.xml\n",
      "/Users/nareshsaini/Desktop/pw/ocr-toolkit-ocr_toolkit/layout-model-training/data/prima/XML/8__27a67413-588c-4644-8738-027a31373470__3c30587d-7832-45e8-98b4-cf6ce3930b8b__6b22e52e-bb04-41d8-a9b5-feb54ea146fd.xml\n",
      "/Users/nareshsaini/Desktop/pw/ocr-toolkit-ocr_toolkit/layout-model-training/data/prima/XML/11__96d59213-2177-4edf-a33d-e6441844281a__a99d6a91-6bc0-4fb7-99a6-c7920e9f7304__c046e477-2359-43af-af37-a79359cf327c.xml\n",
      "/Users/nareshsaini/Desktop/pw/ocr-toolkit-ocr_toolkit/layout-model-training/data/prima/XML/9__7b74856d-0c33-41c9-9478-46993d797f90__761344af-a3fe-4eaa-bf9b-365568496a28.xml\n",
      "/Users/nareshsaini/Desktop/pw/ocr-toolkit-ocr_toolkit/layout-model-training/data/prima/XML/32__070b5b02-7542-4282-a120-d635b06488da__edc70f9d-dc79-41bd-b116-691d2c6bf015__a9fb7ffd-3850-4aeb-b350-0cdccb9da9f4.xml\n",
      "/Users/nareshsaini/Desktop/pw/ocr-toolkit-ocr_toolkit/layout-model-training/data/prima/XML/2__62659661-a580-4ae2-a7a7-5fb433dbd418__ee9fd4b0-4b43-4607-b39e-a0c123cb0670.xml\n",
      "/Users/nareshsaini/Desktop/pw/ocr-toolkit-ocr_toolkit/layout-model-training/data/prima/XML/8__dbd07bd9-d588-472a-a941-4160ad50cf2e__ec174d5a-3f03-4e9a-a565-29ee3027f1d0.xml\n",
      "/Users/nareshsaini/Desktop/pw/ocr-toolkit-ocr_toolkit/layout-model-training/data/prima/XML/18__36f2fb5c-69b1-4cce-afcd-76eb590bfbf7__d1b82d8e-8f3c-4536-9aff-c8cbe6e06e49.xml\n",
      "/Users/nareshsaini/Desktop/pw/ocr-toolkit-ocr_toolkit/layout-model-training/data/prima/XML/25__e5994ecb-f429-4003-9b6a-df660f968145__91afb848-1a57-4125-a827-f9cd70d2d7ba__9358037a-0f84-42ae-afd6-ca4adb2598ab.xml\n",
      "/Users/nareshsaini/Desktop/pw/ocr-toolkit-ocr_toolkit/layout-model-training/data/prima/XML/6__226b3a0c-611c-46d1-b212-f7f455a0d295__13e58e0d-331f-4b7f-93cf-744afaaf8ac1__042995b6-41ba-4a5e-a8f9-14b398520b1e.xml\n",
      "/Users/nareshsaini/Desktop/pw/ocr-toolkit-ocr_toolkit/layout-model-training/data/prima/XML/35__7cb3f96d-725c-4978-959d-5f966508c1a3__7e741485-c8d2-4f14-aca5-0ffef38d31e7__a88cb33f-6b6b-47f0-8a08-4a42572b30a6.xml\n",
      "/Users/nareshsaini/Desktop/pw/ocr-toolkit-ocr_toolkit/layout-model-training/data/prima/XML/32__9162b122-985b-4b2e-b2a5-4d62796a0f69__53907179-d3d0-43cb-b7f2-a04d8fc6e5ca.xml\n",
      "/Users/nareshsaini/Desktop/pw/ocr-toolkit-ocr_toolkit/layout-model-training/data/prima/XML/4__a276235f-c12a-437a-8519-a7072758c251__2bbb6f79-e661-4d33-b63a-61556cfba6c5.xml\n",
      "/Users/nareshsaini/Desktop/pw/ocr-toolkit-ocr_toolkit/layout-model-training/data/prima/XML/13__26e3b4bd-bc73-4d39-898c-61d771850410__a31f0cb6-d780-4826-b95f-5e732889e4ac.xml\n",
      "/Users/nareshsaini/Desktop/pw/ocr-toolkit-ocr_toolkit/layout-model-training/data/prima/XML/1__2e23120f-0d29-440f-99f4-6ec9510f0abf__f45d6a73-890f-45bd-acca-3ed6b01f94bd.xml\n",
      "/Users/nareshsaini/Desktop/pw/ocr-toolkit-ocr_toolkit/layout-model-training/data/prima/XML/4__4b2224fc-502a-44ba-b20b-8682ea24f9cb__a4c62c3f-d40a-41b6-a112-92c45e74b562.xml\n",
      "/Users/nareshsaini/Desktop/pw/ocr-toolkit-ocr_toolkit/layout-model-training/data/prima/XML/27__e4f89c19-deac-4c9d-999f-c75db15a2883__e243fd4b-57f1-4251-813f-515d3819bfa3__90bc795b-c50d-4e70-a3c2-fa6ac99b3619.xml\n",
      "/Users/nareshsaini/Desktop/pw/ocr-toolkit-ocr_toolkit/layout-model-training/data/prima/XML/2__62c44878-f49c-4d04-9391-75d230b4992d__7b58e1ac-0f30-411d-9f2e-4a41bf7b2256__83799ed9-12f1-49f2-87c4-515ea25d08cc.xml\n",
      "/Users/nareshsaini/Desktop/pw/ocr-toolkit-ocr_toolkit/layout-model-training/data/prima/XML/44__8403a96a-5482-480f-a752-e1ffc3243b22__24ffb0d0-df57-4af2-846a-9975437aa8bc.xml\n",
      "/Users/nareshsaini/Desktop/pw/ocr-toolkit-ocr_toolkit/layout-model-training/data/prima/XML/17__210d31ee-25c6-4954-98a7-55d96efd91d2__1dfebb00-8cee-4321-a1d9-a9d85adba8f8__f1ef6c4b-2c08-4c82-a2e1-9b9c3dccfdd7.xml\n",
      "/Users/nareshsaini/Desktop/pw/ocr-toolkit-ocr_toolkit/layout-model-training/data/prima/XML/14__5a6ffc80-e8fb-4fc1-bf9e-fa64603a15dc.xml\n",
      "/Users/nareshsaini/Desktop/pw/ocr-toolkit-ocr_toolkit/layout-model-training/data/prima/XML/8__7e02fbd9-78b3-40c4-8b81-311944269758__c90c4a48-b2a3-4a1d-9aa3-9da4ddc9d4c9.xml\n",
      "/Users/nareshsaini/Desktop/pw/ocr-toolkit-ocr_toolkit/layout-model-training/data/prima/XML/8__d2c8dd70-61f7-49be-8627-c699b17b4ba6__e8417881-a61c-4575-b4e2-48c980abbf52.xml\n",
      "/Users/nareshsaini/Desktop/pw/ocr-toolkit-ocr_toolkit/layout-model-training/data/prima/XML/2__a5308b81-5e66-4ccd-a990-2c41193815f2__b2e3c96f-5fad-4697-85e8-50e566933440.xml\n",
      "/Users/nareshsaini/Desktop/pw/ocr-toolkit-ocr_toolkit/layout-model-training/data/prima/XML/14__733e4a61-1588-4d81-88fb-3cc059f5e5d3__4b72023c-5ee5-4c8a-90e0-fa80ef532b5f__f50663aa-9a2e-4dc5-a455-a643bc0a0a01.xml\n",
      "/Users/nareshsaini/Desktop/pw/ocr-toolkit-ocr_toolkit/layout-model-training/data/prima/XML/8__0a10ab68-72dc-400c-9c55-33528b37416e__8bd6613b-853f-45a7-bca6-5b04cb63f1e5.xml\n",
      "/Users/nareshsaini/Desktop/pw/ocr-toolkit-ocr_toolkit/layout-model-training/data/prima/XML/3__d6bb64d7-4740-467c-a795-b39e2a69f951__f70a7201-ddac-4619-a6b4-428eaff97e51__bb6790eb-25e0-4669-b0ff-be7f45ee434c.xml\n",
      "/Users/nareshsaini/Desktop/pw/ocr-toolkit-ocr_toolkit/layout-model-training/data/prima/XML/1(1)__669727aa-3b41-48e7-a337-d308f60083ce__6c719c29-b3d1-4a19-bf6e-2752876303e4.xml\n",
      "/Users/nareshsaini/Desktop/pw/ocr-toolkit-ocr_toolkit/layout-model-training/data/prima/XML/19__72fd7663-93f2-4712-b039-9f19084b2260__0cbadba3-6374-4c22-b331-5596a0717fcc.xml\n",
      "/Users/nareshsaini/Desktop/pw/ocr-toolkit-ocr_toolkit/layout-model-training/data/prima/XML/56__7dce79f8-a178-4449-acd6-0e808b7417db__21a6d7df-aa00-4792-9b26-f67db0730fdd__1503c6ee-da19-4328-a461-41bbb34ede58.xml\n",
      "/Users/nareshsaini/Desktop/pw/ocr-toolkit-ocr_toolkit/layout-model-training/data/prima/XML/8(1)__6681439f-7aad-4f6e-b234-79dc9b641fd9.xml\n",
      "/Users/nareshsaini/Desktop/pw/ocr-toolkit-ocr_toolkit/layout-model-training/data/prima/XML/8__546f15aa-4229-41ce-bcd0-3d8b9719f105__77e70abd-8023-4135-9f89-a36715af6d25.xml\n",
      "/Users/nareshsaini/Desktop/pw/ocr-toolkit-ocr_toolkit/layout-model-training/data/prima/XML/9__7ae31d64-2894-486e-9856-8bbf66c55a2b__f53d7a9a-c4e1-4295-a8c8-4900c8c652ac.xml\n",
      "/Users/nareshsaini/Desktop/pw/ocr-toolkit-ocr_toolkit/layout-model-training/data/prima/XML/2__f15579f7-f1bc-476c-acf1-01f7804ef08f__228ec4eb-9563-480f-9770-feda6d48e247.xml\n",
      "/Users/nareshsaini/Desktop/pw/ocr-toolkit-ocr_toolkit/layout-model-training/data/prima/XML/12__77e9ca86-d45c-4932-ab95-35d4f4ca07d0__0d947ca5-718c-430b-8a33-06e45839725c.xml\n",
      "/Users/nareshsaini/Desktop/pw/ocr-toolkit-ocr_toolkit/layout-model-training/data/prima/XML/41__433f6f63-fefc-421c-94f3-6e6b4a55c0b3__b712bce7-1708-4e40-977b-732d499f12b4.xml\n",
      "/Users/nareshsaini/Desktop/pw/ocr-toolkit-ocr_toolkit/layout-model-training/data/prima/XML/25__366a9aea-6c30-401f-94ba-eaf42821462b__9a08cef0-5dc0-4a48-9d07-4a88e57ceb7a.xml\n",
      "/Users/nareshsaini/Desktop/pw/ocr-toolkit-ocr_toolkit/layout-model-training/data/prima/XML/6__cf5a1c6e-b33b-4291-9c5e-4cae3bc3bc1b__52f4b1f1-bd9d-4ba4-9540-a3635832f741__14f94de9-f647-453b-858b-b85b47b77466.xml\n",
      "/Users/nareshsaini/Desktop/pw/ocr-toolkit-ocr_toolkit/layout-model-training/data/prima/XML/8__27ce836b-7109-46f8-9f5d-2b20452c716a__dc2e9826-7158-4103-b828-69d0d7437b5f.xml\n",
      "/Users/nareshsaini/Desktop/pw/ocr-toolkit-ocr_toolkit/layout-model-training/data/prima/XML/9__9f2d61fc-9eb9-4921-8ef1-2817bea176ab.xml\n",
      "/Users/nareshsaini/Desktop/pw/ocr-toolkit-ocr_toolkit/layout-model-training/data/prima/XML/18__d9221bcf-4b6a-4e2a-ba37-1a962af6a47c__225d87c1-3968-4057-aa6b-accbe1c5aca3__b3c81a0e-54dd-4561-8029-646d1fa43779.xml\n",
      "/Users/nareshsaini/Desktop/pw/ocr-toolkit-ocr_toolkit/layout-model-training/data/prima/XML/5__02a36966-3386-42b0-b980-235c53c3c8c4__a7eb14fe-3db2-4014-bd19-5584625fcb46__31d42ed2-862b-434f-badb-3801079fda42.xml\n",
      "/Users/nareshsaini/Desktop/pw/ocr-toolkit-ocr_toolkit/layout-model-training/data/prima/XML/5__772df9d7-331a-4b2c-95ec-299a4780a2a7__31ad8ef7-d322-4549-a7e9-00dad0587702.xml\n",
      "/Users/nareshsaini/Desktop/pw/ocr-toolkit-ocr_toolkit/layout-model-training/data/prima/XML/11__1b0a73b7-e808-4662-8d32-d5fb843913c4__513cd3bb-c733-4c34-84e3-dcc6c14f6cd9.xml\n",
      "/Users/nareshsaini/Desktop/pw/ocr-toolkit-ocr_toolkit/layout-model-training/data/prima/XML/7__7b48050e-e819-42a2-b13a-f5d9f3798308__c4873438-2f70-4107-b031-661e2b1004b3.xml\n",
      "/Users/nareshsaini/Desktop/pw/ocr-toolkit-ocr_toolkit/layout-model-training/data/prima/XML/40__d9235928-296d-406a-bb51-42a5f7f51ce7__fe2030e5-a7b7-427c-a3bb-d93762a5ac89.xml\n",
      "/Users/nareshsaini/Desktop/pw/ocr-toolkit-ocr_toolkit/layout-model-training/data/prima/XML/42__92efb441-aded-432d-ac01-3225e06c0121__2dea9e25-3499-4169-82aa-d7f91a0efa25.xml\n",
      "/Users/nareshsaini/Desktop/pw/ocr-toolkit-ocr_toolkit/layout-model-training/data/prima/XML/6__079a1bd8-11ed-4ecc-8b40-d0fa506818bd__8e0d1099-eb56-4643-8527-3d7c5824c870.xml\n",
      "/Users/nareshsaini/Desktop/pw/ocr-toolkit-ocr_toolkit/layout-model-training/data/prima/XML/15__982da005-b33d-40f7-9d65-76d19129de9a.xml\n",
      "/Users/nareshsaini/Desktop/pw/ocr-toolkit-ocr_toolkit/layout-model-training/data/prima/XML/11(1)__642e267a-dc96-4a0f-a3cf-853a0c7bff00__130d3c63-8478-43c3-8430-36a7d9242de9.xml\n",
      "/Users/nareshsaini/Desktop/pw/ocr-toolkit-ocr_toolkit/layout-model-training/data/prima/XML/24__a8a45e0b-0ef5-4c81-a421-3642a7e0cca4__ac992be1-341d-420f-80c1-7bb217de762b.xml\n",
      "/Users/nareshsaini/Desktop/pw/ocr-toolkit-ocr_toolkit/layout-model-training/data/prima/XML/30__7a0c8129-d0e0-4f33-a21b-b93d750be44b__045ca463-11e6-4b23-b476-ac9943229334__85489e04-ac3f-4b19-9185-2c53983531bc.xml\n",
      "/Users/nareshsaini/Desktop/pw/ocr-toolkit-ocr_toolkit/layout-model-training/data/prima/XML/25__7899b4ba-ede3-4041-a73d-96ee6c9afd1b__ff12adb0-4d36-437f-a3fb-628b7713870b.xml\n",
      "/Users/nareshsaini/Desktop/pw/ocr-toolkit-ocr_toolkit/layout-model-training/data/prima/XML/3__045ecce2-242d-42fa-98bd-da8ad95571b4__34f66c55-5412-4ecb-bf2b-c57f099c4f41__51e153e2-b821-4077-82c0-253f0ee465a6.xml\n",
      "/Users/nareshsaini/Desktop/pw/ocr-toolkit-ocr_toolkit/layout-model-training/data/prima/XML/6__db67305f-2b92-421c-aa0c-085de7e52f3e__e7efca6a-62c3-4a46-a305-69a3aae42057.xml\n",
      "/Users/nareshsaini/Desktop/pw/ocr-toolkit-ocr_toolkit/layout-model-training/data/prima/XML/20__21dc80d1-0f2a-4d4a-a8b8-0579924d4ba8__ea8c539e-3093-475d-8f32-178d58051010__ec447de2-be2b-4eea-b2a7-4deb972aee33.xml\n",
      "/Users/nareshsaini/Desktop/pw/ocr-toolkit-ocr_toolkit/layout-model-training/data/prima/XML/3__6c6cab00-5488-4c7d-aa3c-65cb69ee9dd3__ee455804-e836-4712-9258-61bb9d2032ae.xml\n",
      "/Users/nareshsaini/Desktop/pw/ocr-toolkit-ocr_toolkit/layout-model-training/data/prima/XML/57__7c878e53-9180-4dde-89ca-53a379c11b6e__6131b8cf-41aa-4d28-891e-63b9bfd88b75__3594db98-1808-4aef-9ebb-4d2d69e5068f.xml\n",
      "/Users/nareshsaini/Desktop/pw/ocr-toolkit-ocr_toolkit/layout-model-training/data/prima/XML/7__9e2fb78d-2ca6-4913-a707-94e8f101712a__88749e6e-5ae8-4b8a-be6b-a9aa74861c94.xml\n",
      "/Users/nareshsaini/Desktop/pw/ocr-toolkit-ocr_toolkit/layout-model-training/data/prima/XML/5__0242ee7f-5e25-4284-b9ba-6a04f3ce6c2b__b0494848-e0ae-4130-8131-27a63990fc04__5984f6cb-8ddf-47e0-b495-bc484be01f9d.xml\n",
      "/Users/nareshsaini/Desktop/pw/ocr-toolkit-ocr_toolkit/layout-model-training/data/prima/XML/7(1)__6b9ceb77-dd51-4d4a-a03b-593f7eaa32c7.xml\n",
      "/Users/nareshsaini/Desktop/pw/ocr-toolkit-ocr_toolkit/layout-model-training/data/prima/XML/10__ee0f375d-0d4b-4473-90f3-0461bd304b69__040750ad-b558-4111-9664-eed5aa097e27.xml\n",
      "/Users/nareshsaini/Desktop/pw/ocr-toolkit-ocr_toolkit/layout-model-training/data/prima/XML/11__f1b5843a-4897-49c2-9afa-5e54a3645658__6a1d0db4-0877-488d-9ed5-7f9bc6219c1b.xml\n",
      "/Users/nareshsaini/Desktop/pw/ocr-toolkit-ocr_toolkit/layout-model-training/data/prima/XML/23__4887b520-7966-4c1e-8b58-6c0e3c738635__76feb526-c703-4ac5-bea1-51faf8ad6ea3__fff5fa94-48aa-47db-ab3c-2c030573b442.xml\n",
      "/Users/nareshsaini/Desktop/pw/ocr-toolkit-ocr_toolkit/layout-model-training/data/prima/XML/23__e5f97715-2cc8-48b2-b65e-d8d43ad479a8__efde8b32-0d3e-4dc3-8aaa-37320da9a875.xml\n",
      "/Users/nareshsaini/Desktop/pw/ocr-toolkit-ocr_toolkit/layout-model-training/data/prima/XML/15__2f238960-3343-42cb-a5e1-b292b7334e24__f3b03e3b-0ca9-43d0-badd-4e905f0ff6bc__b5f53da1-6b3d-44fa-b402-122211e4b2a9.xml\n",
      "/Users/nareshsaini/Desktop/pw/ocr-toolkit-ocr_toolkit/layout-model-training/data/prima/XML/9__6f0f2d19-19b2-422d-935e-b2030cc0beb3__ffb666eb-7e9f-4243-ab9d-e5bae6936be2.xml\n",
      "/Users/nareshsaini/Desktop/pw/ocr-toolkit-ocr_toolkit/layout-model-training/data/prima/XML/3__44add04f-ab1f-4e32-8eed-bd5b3ee58b2a__0d7cb3d2-a2a1-48cb-b535-667db948a9b9.xml\n",
      "/Users/nareshsaini/Desktop/pw/ocr-toolkit-ocr_toolkit/layout-model-training/data/prima/XML/4__9698b7b6-9aac-44f5-835c-fa3024e24d96__e6c76821-46dc-4b53-809c-da9230ef8f78.xml\n",
      "/Users/nareshsaini/Desktop/pw/ocr-toolkit-ocr_toolkit/layout-model-training/data/prima/XML/27__48ca24ef-9bc0-4961-8fac-290047bd163c__3d2c3798-abab-4ddf-a4e7-33aa42517fde.xml\n",
      "/Users/nareshsaini/Desktop/pw/ocr-toolkit-ocr_toolkit/layout-model-training/data/prima/XML/34__7b7a2b55-a4a1-429b-aff5-2471559c11b0__eea93a34-bf0f-4b79-98e2-58ddcd7e021f.xml\n",
      "/Users/nareshsaini/Desktop/pw/ocr-toolkit-ocr_toolkit/layout-model-training/data/prima/XML/1__06a20003-0337-4db5-a9a3-8755e8fb2027__188a9a1f-40b1-416b-be98-f6d9270f58ed.xml\n",
      "/Users/nareshsaini/Desktop/pw/ocr-toolkit-ocr_toolkit/layout-model-training/data/prima/XML/34__e9fff6a4-f9c2-42a4-84b7-c851899dda03__2d62b75e-adce-4215-875b-eeee8a92acf1__5b67e62d-8c6c-41ca-ba09-7668ad0a79a3.xml\n",
      "/Users/nareshsaini/Desktop/pw/ocr-toolkit-ocr_toolkit/layout-model-training/data/prima/XML/4__91351c0f-bae4-4cc9-b6aa-62d2c35a282c__2036d783-e9b9-495c-819f-cbbf9606de38.xml\n",
      "/Users/nareshsaini/Desktop/pw/ocr-toolkit-ocr_toolkit/layout-model-training/data/prima/XML/12__5136c080-05b1-47e7-8614-b5229606f7a8.xml\n",
      "/Users/nareshsaini/Desktop/pw/ocr-toolkit-ocr_toolkit/layout-model-training/data/prima/XML/3__393c9546-1da1-4ef6-94b5-4dfee2ac7c90__440a7739-65d6-46ee-8a3c-2418066e4ef6.xml\n",
      "/Users/nareshsaini/Desktop/pw/ocr-toolkit-ocr_toolkit/layout-model-training/data/prima/XML/4__020fe2ad-eb1b-413e-8661-0a7276edd0d8__ec090c51-7312-427a-8429-4d4811c5f8a2.xml\n",
      "/Users/nareshsaini/Desktop/pw/ocr-toolkit-ocr_toolkit/layout-model-training/data/prima/XML/1__1d644e35-62a8-4ed0-90b7-ab48c7daa642__bd99d0e7-86f4-4899-9847-a7e4819b78f7.xml\n",
      "/Users/nareshsaini/Desktop/pw/ocr-toolkit-ocr_toolkit/layout-model-training/data/prima/XML/58__a18493e9-bc16-4aa1-a9b6-3d93b86e7f0f__383aa132-d94c-470c-bba9-f0f646b3a26c__70645baa-0300-4ce5-a462-893e6dd3cd14.xml\n",
      "/Users/nareshsaini/Desktop/pw/ocr-toolkit-ocr_toolkit/layout-model-training/data/prima/XML/11__40b7ac52-b439-4e2a-bb99-f7c428229baf__d2b8e838-9913-423f-a984-b56a0888b981.xml\n",
      "/Users/nareshsaini/Desktop/pw/ocr-toolkit-ocr_toolkit/layout-model-training/data/prima/XML/5__a9092353-e3ce-43c9-a63e-5c104b567b8b__3b835901-bc8f-4299-90c4-178954e9109c.xml\n",
      "/Users/nareshsaini/Desktop/pw/ocr-toolkit-ocr_toolkit/layout-model-training/data/prima/XML/43__5f74ddfb-f75a-4eac-936c-374ecf003077__e80ee171-123d-4b58-b85c-ddb022c21a6a.xml\n",
      "/Users/nareshsaini/Desktop/pw/ocr-toolkit-ocr_toolkit/layout-model-training/data/prima/XML/14__396c9c39-9886-49fb-9892-2caf8ffacb08__c954b5bb-4f83-456a-af3b-872d3acefac2.xml\n",
      "/Users/nareshsaini/Desktop/pw/ocr-toolkit-ocr_toolkit/layout-model-training/data/prima/XML/10__3e92266b-be88-4bec-989d-d602abb4bd63__e210f318-b622-4fee-a456-cf41dd7133ab.xml\n",
      "/Users/nareshsaini/Desktop/pw/ocr-toolkit-ocr_toolkit/layout-model-training/data/prima/XML/6__13482e07-9ebd-44da-8e5c-210510273220.xml\n",
      "/Users/nareshsaini/Desktop/pw/ocr-toolkit-ocr_toolkit/layout-model-training/data/prima/XML/11__6ea81bb4-0085-4f45-84fb-615db7cb40e2__663da9d3-3418-4ede-a524-e112e176ad4a__45257c0e-7157-47e8-890c-82f7f40dab89.xml\n",
      "/Users/nareshsaini/Desktop/pw/ocr-toolkit-ocr_toolkit/layout-model-training/data/prima/XML/10__30271d87-2562-41c0-87c3-c08dc3683dba__575ad16f-369e-4c7f-90ad-eab891150af7__c8fb1542-d2b1-4ddc-82df-486a326ac602.xml\n",
      "/Users/nareshsaini/Desktop/pw/ocr-toolkit-ocr_toolkit/layout-model-training/data/prima/XML/2__95d93668-e1d7-444b-bb1c-8505e2973469__2f4e5140-61fb-4a91-922a-ca0952ba7a92.xml\n",
      "/Users/nareshsaini/Desktop/pw/ocr-toolkit-ocr_toolkit/layout-model-training/data/prima/XML/2__73d594b2-71e5-4d89-a36f-cc1a6b7b072a__b43bee41-02df-4abe-8600-9fb1d17452a9.xml\n",
      "/Users/nareshsaini/Desktop/pw/ocr-toolkit-ocr_toolkit/layout-model-training/data/prima/XML/1__80ba28a1-b7a1-4a2a-898b-c3048956684e__40c0fa55-ffb4-4ae7-9836-326583197012__3cad23fe-9514-45d2-bce1-b35559ce0454.xml\n",
      "/Users/nareshsaini/Desktop/pw/ocr-toolkit-ocr_toolkit/layout-model-training/data/prima/XML/3__986267df-8181-4063-854f-52bcc17aa183__5caad675-d983-496c-8b1f-5f087bfd7869__21803116-ba02-4d8e-b945-3f6ddb52fc93.xml\n",
      "/Users/nareshsaini/Desktop/pw/ocr-toolkit-ocr_toolkit/layout-model-training/data/prima/XML/1__57409bc6-7c54-474d-953e-00e6cee5a62b__1cfc43bb-05d2-4c9f-888d-bf72336a6677.xml\n",
      "/Users/nareshsaini/Desktop/pw/ocr-toolkit-ocr_toolkit/layout-model-training/data/prima/XML/9(1)__721dbb25-649d-4717-9757-e7eff13c60d2.xml\n",
      "/Users/nareshsaini/Desktop/pw/ocr-toolkit-ocr_toolkit/layout-model-training/data/prima/XML/4__4483fdf1-b813-4bdf-bb8b-2333d5d5666a__41afa19a-3f45-41fb-9a29-361ce480d739.xml\n",
      "/Users/nareshsaini/Desktop/pw/ocr-toolkit-ocr_toolkit/layout-model-training/data/prima/XML/50__96b5aa60-16a8-4e6d-9847-e851c6798049__d6fcd8d8-0339-4568-a08b-036957415fc2__62552626-72d3-4282-a322-206a7de9faaf.xml\n",
      "/Users/nareshsaini/Desktop/pw/ocr-toolkit-ocr_toolkit/layout-model-training/data/prima/XML/7__1c8c4e98-0743-4813-8faa-c9352277a02d__ef5f0aa9-27ca-4441-8d43-e71bcd0d96d9__03d70153-3ee5-4e42-9f64-46403e33422d.xml\n",
      "/Users/nareshsaini/Desktop/pw/ocr-toolkit-ocr_toolkit/layout-model-training/data/prima/XML/19__903ceb27-a539-46e7-9575-72f3a3c6e7cd__73862df6-aaa2-4c87-b236-5da8b36cd51f__69ab40a5-979b-4d31-92ca-8bf2af2c53ed.xml\n",
      "/Users/nareshsaini/Desktop/pw/ocr-toolkit-ocr_toolkit/layout-model-training/data/prima/XML/9__84e87acd-0f92-4bf4-9b6d-2e99fed2f0cd__3b84df80-9f3c-4158-b43a-18581f909b3a.xml\n",
      "/Users/nareshsaini/Desktop/pw/ocr-toolkit-ocr_toolkit/layout-model-training/data/prima/XML/5__92de86f1-8825-4b65-8e72-24b940afa2d3__f47cc978-9e05-4d57-86f9-0aba7746a8c6.xml\n",
      "/Users/nareshsaini/Desktop/pw/ocr-toolkit-ocr_toolkit/layout-model-training/data/prima/XML/12__d4049711-6aed-4714-a71e-f9159de95938__3f9d43c3-ed08-4a0c-9de3-210405012e46__54f4efa7-9efc-4344-8668-f8079f163235.xml\n",
      "/Users/nareshsaini/Desktop/pw/ocr-toolkit-ocr_toolkit/layout-model-training/data/prima/XML/10(1)__ce102f05-a2ed-41de-98cb-a07c077f96ff__6685ac49-7502-4b04-94d0-14feeda5b6fa.xml\n",
      "/Users/nareshsaini/Desktop/pw/ocr-toolkit-ocr_toolkit/layout-model-training/data/prima/XML/1__c224a0db-f4bc-4fbe-8b56-4cb951edd848__e04fce4e-7d80-44d5-b0af-7455d0c6c7f7__7e162af2-4d9f-48b1-b030-1823286c2b31.xml\n",
      "/Users/nareshsaini/Desktop/pw/ocr-toolkit-ocr_toolkit/layout-model-training/data/prima/XML/23__aacfe3fd-cb0c-4e8e-99f9-95d45d26e869__1c3e2918-18d2-4be6-a0cb-c7d0bec37353.xml\n",
      "/Users/nareshsaini/Desktop/pw/ocr-toolkit-ocr_toolkit/layout-model-training/data/prima/XML/7__979daa75-88c7-40be-904c-19f188f795e3__85ce2f35-d594-424e-b003-c0ecf110e41c.xml\n",
      "/Users/nareshsaini/Desktop/pw/ocr-toolkit-ocr_toolkit/layout-model-training/data/prima/XML/1__b878e0b5-f6b9-4e7e-80f6-de694c30ea45__51c85782-8253-447a-9725-91b10e7e6477__2ce69dff-5bb8-4e8a-819d-750e2d4af512.xml\n",
      "/Users/nareshsaini/Desktop/pw/ocr-toolkit-ocr_toolkit/layout-model-training/data/prima/XML/29__0ceb5a40-6780-4f8b-82ff-84557fe358d0__59947f8a-d325-4b60-a59f-12a496711dcc__0856119f-78d0-4905-8240-2eb3a07caa2c.xml\n",
      "/Users/nareshsaini/Desktop/pw/ocr-toolkit-ocr_toolkit/layout-model-training/data/prima/XML/5__50969f2e-da4a-491f-b859-f2f92fb10809__17cc2247-0d43-4b73-be5c-ed15f83b7d8a__6c3df022-fd81-459f-9503-426933d01bdd.xml\n",
      "/Users/nareshsaini/Desktop/pw/ocr-toolkit-ocr_toolkit/layout-model-training/data/prima/XML/12__a1513aa4-ce61-430f-9eea-9c2388dd8f52__8c9f89a2-ced0-4eef-88c7-8fcea555d252.xml\n",
      "/Users/nareshsaini/Desktop/pw/ocr-toolkit-ocr_toolkit/layout-model-training/data/prima/XML/5__85d56165-f894-4d5b-bfae-d7cfa008c0b8__994dac48-1314-4c32-8430-142551c0cb28.xml\n",
      "/Users/nareshsaini/Desktop/pw/ocr-toolkit-ocr_toolkit/layout-model-training/data/prima/XML/4__1947d6f4-80e6-41a1-a025-d195e5f0b7e4__7e03604d-a284-49cc-b6cb-8d43a9bfa1e2.xml\n",
      "/Users/nareshsaini/Desktop/pw/ocr-toolkit-ocr_toolkit/layout-model-training/data/prima/XML/21__cf2fe677-8715-4c2b-9ae0-4a46da253560__cda80e20-e3e1-4e33-a56f-37fe89613807__7847fd2b-d565-48f1-9ae4-421699e51363.xml\n",
      "/Users/nareshsaini/Desktop/pw/ocr-toolkit-ocr_toolkit/layout-model-training/data/prima/XML/7__e4956449-b79c-4285-a7a3-7d3423b85e12__37bca40a-71c7-45ab-a5b6-2d3fa720d602__a215d76e-8225-4f8e-adf9-7e20f59c94f7.xml\n",
      "/Users/nareshsaini/Desktop/pw/ocr-toolkit-ocr_toolkit/layout-model-training/data/prima/XML/13__11d269cb-0f4e-4d0e-9160-25f54173fd50__a7ae6ee6-1fef-4301-a366-fdf643a057b1.xml\n",
      "/Users/nareshsaini/Desktop/pw/ocr-toolkit-ocr_toolkit/layout-model-training/data/prima/XML/11__9cd769a0-6b89-4832-943b-af7ba471459f__9bf7e9f2-7387-4a0e-a92e-f4decf6a0b6d__ae6aca8c-d289-495d-bb14-06340e3f0dac.xml\n",
      "/Users/nareshsaini/Desktop/pw/ocr-toolkit-ocr_toolkit/layout-model-training/data/prima/XML/18__73d28830-3c99-48a6-8ea7-e65eaf94affe__64c95b91-23c1-4564-9846-099c5825c81c__ff58990c-e5f8-41aa-ab05-b2f0d204845a.xml\n",
      "/Users/nareshsaini/Desktop/pw/ocr-toolkit-ocr_toolkit/layout-model-training/data/prima/XML/45__27bbeaea-0a3a-4438-9cb2-6529199d5e40__ef752be7-c139-4ac5-a3b6-105f0ee5a8d6__f7bb9e6d-f586-45ac-8132-85293eeeb874.xml\n",
      "/Users/nareshsaini/Desktop/pw/ocr-toolkit-ocr_toolkit/layout-model-training/data/prima/XML/10__b6ce7ab0-82a4-4f88-9a8c-c7d6933f1624__25d8fa44-cfc3-4e9a-8b5e-1147c484769b__6c5acf20-ce8c-43d0-9a1e-a0542c2bc900.xml\n",
      "/Users/nareshsaini/Desktop/pw/ocr-toolkit-ocr_toolkit/layout-model-training/data/prima/XML/3__3b2aa584-af7f-4a72-ad54-acc9cf03cd46__478fdb9b-fd7f-44df-8bdd-20c353ee0647.xml\n",
      "/Users/nareshsaini/Desktop/pw/ocr-toolkit-ocr_toolkit/layout-model-training/data/prima/XML/16__9bb7e0ee-b189-4df8-9e15-b8a3dafc3e80__1a1cd538-f25b-46ec-9aeb-b292b0f1ac0b.xml\n",
      "/Users/nareshsaini/Desktop/pw/ocr-toolkit-ocr_toolkit/layout-model-training/data/prima/XML/17__91f2ce38-1bd8-453b-b5b4-1ff97699771b__e8f279a7-4dab-472a-8ba2-10c962eb45f6__39721d6d-1e03-44f3-8f2b-3d2f8ef48b58.xml\n",
      "/Users/nareshsaini/Desktop/pw/ocr-toolkit-ocr_toolkit/layout-model-training/data/prima/XML/9__7b97d229-05cb-4d22-b965-f2e09df28256__a9feb71b-70b9-480e-a0b1-367463e88610__8a83ed5f-c117-498c-bdda-7b764d069881.xml\n",
      "/Users/nareshsaini/Desktop/pw/ocr-toolkit-ocr_toolkit/layout-model-training/data/prima/XML/22__f99dcd1a-abcd-4b39-bed3-334e4e7fd477__5a5bc1cf-664f-4620-b227-23134cafbd22__d34fb470-16b3-4792-be49-2d970e31ddda.xml\n",
      "/Users/nareshsaini/Desktop/pw/ocr-toolkit-ocr_toolkit/layout-model-training/data/prima/XML/13__ffef50b0-50d4-4f0e-9de3-d7126f1154a2__ee7b71e0-85bd-4099-9a8a-10b978de0cda.xml\n",
      "/Users/nareshsaini/Desktop/pw/ocr-toolkit-ocr_toolkit/layout-model-training/data/prima/XML/2__73e32f17-819e-4ee2-b980-8391faeb9fd4__a1f7c00b-6b12-4482-9310-307e38d8058d.xml\n",
      "/Users/nareshsaini/Desktop/pw/ocr-toolkit-ocr_toolkit/layout-model-training/data/prima/XML/1__9552be90-0c8a-4503-914c-a5cc716152c5__6ae9c49b-6f08-4abe-896f-2e86f554ca7d.xml\n",
      "/Users/nareshsaini/Desktop/pw/ocr-toolkit-ocr_toolkit/layout-model-training/data/prima/XML/5__bf08d2fa-e36d-4453-ac65-8fa354fd132f__67a0c69f-e4fd-4f30-aa89-5dd993e23a25.xml\n",
      "/Users/nareshsaini/Desktop/pw/ocr-toolkit-ocr_toolkit/layout-model-training/data/prima/XML/33__ed0934a3-e02c-48d1-af25-621aa96d5bb1__d4962891-131f-435e-aa38-dc37aa10106f__21d80bf1-6489-4bbe-b381-5f3156d746ee.xml\n",
      "/Users/nareshsaini/Desktop/pw/ocr-toolkit-ocr_toolkit/layout-model-training/data/prima/XML/9__598f95d8-36e6-419e-8f93-d0fa3924dc43__9591d7f2-9c93-4cc1-8579-2cec555e0a20.xml\n",
      "/Users/nareshsaini/Desktop/pw/ocr-toolkit-ocr_toolkit/layout-model-training/data/prima/XML/2__94bed26e-b057-4c4b-82b3-1571ee09812b__2d2e81dd-7ca3-4cd4-bf73-b0137bc15c55.xml\n",
      "/Users/nareshsaini/Desktop/pw/ocr-toolkit-ocr_toolkit/layout-model-training/data/prima/XML/8__6fc6cc57-f5fb-4060-8616-2fad34bbb733__46f38873-fe09-498e-8622-533c95539dc9.xml\n",
      "/Users/nareshsaini/Desktop/pw/ocr-toolkit-ocr_toolkit/layout-model-training/data/prima/XML/5__424897d6-2996-4f03-b428-3b1aa4ebf023__e75d0aa9-fbd2-42b0-b650-36d31dc957b8.xml\n",
      "/Users/nareshsaini/Desktop/pw/ocr-toolkit-ocr_toolkit/layout-model-training/data/prima/XML/10__45a486e2-94ec-47db-a8d5-c903e9666703__a2e84026-6d42-4adf-89d5-b534ec0a7301__60f73413-cdfd-4f64-956f-868661334272.xml\n",
      "/Users/nareshsaini/Desktop/pw/ocr-toolkit-ocr_toolkit/layout-model-training/data/prima/XML/4__6ee81477-6d6c-4ac3-991a-7d4b736e4de7__fac28345-92c8-4e13-974b-190fd46f58c9.xml\n",
      "/Users/nareshsaini/Desktop/pw/ocr-toolkit-ocr_toolkit/layout-model-training/data/prima/XML/39__ddd4d85b-a3d9-43ab-a487-31363db88608__951ad91d-2440-43b4-af62-e9ee4d8c401a.xml\n",
      "/Users/nareshsaini/Desktop/pw/ocr-toolkit-ocr_toolkit/layout-model-training/data/prima/XML/8__c8ad6c33-4cd5-401a-aef0-3d4931474902__f80030b9-2675-4fd0-8ba9-edf590037991.xml\n",
      "/Users/nareshsaini/Desktop/pw/ocr-toolkit-ocr_toolkit/layout-model-training/data/prima/XML/14(1)__4bae1008-f2fd-4ad2-8a0a-560f71949d90__20f67c07-ac84-4915-ab5d-6fe1964e4002.xml\n",
      "/Users/nareshsaini/Desktop/pw/ocr-toolkit-ocr_toolkit/layout-model-training/data/prima/XML/16__1278d7fb-ec03-4974-a257-a19e661c8d66__6b8cea93-ebea-4b1f-a1cc-c3988e4a3b7d.xml\n",
      "/Users/nareshsaini/Desktop/pw/ocr-toolkit-ocr_toolkit/layout-model-training/data/prima/XML/6__dd074b41-6e5f-4b01-869b-1bcd165123a0__424ea6aa-7ece-4b29-961a-df0b8bdff267.xml\n",
      "/Users/nareshsaini/Desktop/pw/ocr-toolkit-ocr_toolkit/layout-model-training/data/prima/XML/10__07ded0c1-6a4b-4dbb-b867-d465d21f6570__c99c6b1d-5aa7-4a65-8987-fc43dd52aa16.xml\n",
      "/Users/nareshsaini/Desktop/pw/ocr-toolkit-ocr_toolkit/layout-model-training/data/prima/XML/12__b5a91a04-dd2d-4c4d-9ca5-abad2d279cfb__113aac4b-019a-4c49-848a-658c9f410d9d__6063fbb5-4163-4fa7-af60-34cf651e01ca.xml\n",
      "/Users/nareshsaini/Desktop/pw/ocr-toolkit-ocr_toolkit/layout-model-training/data/prima/XML/6__9ce92c40-f93d-470a-8ddf-34042441cd5b__e03653ab-9d80-4376-8c2f-ed44c1a5b900__dae9dae4-7282-403d-8065-9498bbf2bcf9.xml\n",
      "/Users/nareshsaini/Desktop/pw/ocr-toolkit-ocr_toolkit/layout-model-training/data/prima/XML/51__15457de9-9785-4561-a0ce-3ef3c117a6af__885b573f-3ca7-4abb-9803-9e9fc5a014db__06bd4b6b-a608-4770-8a59-89901101dd9d.xml\n",
      "/Users/nareshsaini/Desktop/pw/ocr-toolkit-ocr_toolkit/layout-model-training/data/prima/XML/6__84bb5814-f300-438c-8412-95eca9a5aa57__bd3de6bc-47d7-489e-aefb-53fa8bbb1fd9.xml\n",
      "/Users/nareshsaini/Desktop/pw/ocr-toolkit-ocr_toolkit/layout-model-training/data/prima/XML/1__1fe450db-8c78-493b-ad0e-385fd9b8ba9c__a4941ef7-48c7-4b33-8d2e-546f91a31857.xml\n",
      "/Users/nareshsaini/Desktop/pw/ocr-toolkit-ocr_toolkit/layout-model-training/data/prima/XML/26__d5825491-2007-4a73-9f97-a30138b341e3__ab1c1bd0-ef6a-4fc2-8656-fbf86afae38c__2d212a1c-d9e2-489d-bd75-615c3d42ca9c.xml\n",
      "/Users/nareshsaini/Desktop/pw/ocr-toolkit-ocr_toolkit/layout-model-training/data/prima/XML/13__1377f00f-1c9d-4319-8c67-0ea5b7e0aae2__7b9002d5-c626-4b7c-bf2a-957a057c98d4.xml\n",
      "/Users/nareshsaini/Desktop/pw/ocr-toolkit-ocr_toolkit/layout-model-training/data/prima/XML/2__cd300922-cb4b-485a-9200-f08827f62bdd__4c7b05cb-aeb2-489f-8e0c-590b353254af__725d7d07-f378-45a7-814a-65967d8a51cb.xml\n",
      "/Users/nareshsaini/Desktop/pw/ocr-toolkit-ocr_toolkit/layout-model-training/data/prima/XML/7__04584d0d-1ec3-484a-9179-fe339acf9486__d6e8eef5-f9e0-49ec-8322-97b6fd38a1d8__282c809e-514f-4756-9d86-d32e6d06ecb7.xml\n",
      "/Users/nareshsaini/Desktop/pw/ocr-toolkit-ocr_toolkit/layout-model-training/data/prima/XML/6__bf0a86b9-d46f-460e-aaab-4fdcce0a0785.xml\n",
      "/Users/nareshsaini/Desktop/pw/ocr-toolkit-ocr_toolkit/layout-model-training/data/prima/XML/5__c30452f2-fa4e-4567-aaa8-42b072a2ac5a.xml\n",
      "/Users/nareshsaini/Desktop/pw/ocr-toolkit-ocr_toolkit/layout-model-training/data/prima/XML/7__525ba869-a6a1-4c79-adff-0954b6843a51__f7928c6d-c85c-433f-9bc4-a375ec9ff15b.xml\n",
      "/Users/nareshsaini/Desktop/pw/ocr-toolkit-ocr_toolkit/layout-model-training/data/prima/XML/24__6030a121-bdf3-4d6c-88b2-ead001756d84__ff1bd37f-9ce0-4eb3-a2d5-a53c7866d323__5d481ffc-302b-4679-ba79-ad9c26ab5a96.xml\n",
      "/Users/nareshsaini/Desktop/pw/ocr-toolkit-ocr_toolkit/layout-model-training/data/prima/XML/12__6377a637-cec7-4b5f-9a50-36c2bdf05ed5.xml\n",
      "/Users/nareshsaini/Desktop/pw/ocr-toolkit-ocr_toolkit/layout-model-training/data/prima/XML/31__a33c76a8-43c9-428f-ad39-9203a4f06cc1__500665e0-8797-4152-b6c9-14cf65b42c99.xml\n",
      "/Users/nareshsaini/Desktop/pw/ocr-toolkit-ocr_toolkit/layout-model-training/data/prima/XML/12__7e191dfe-0048-463f-b84d-ab0cc947202a__15f7de50-2326-41be-8fcf-2d7f734eff17.xml\n",
      "/Users/nareshsaini/Desktop/pw/ocr-toolkit-ocr_toolkit/layout-model-training/data/prima/XML/55__762a5b3d-2165-4eb1-b86b-581b6293141d__95869bd3-f99b-4d2f-9aaf-9c96ceae4340__d32956e1-2300-4c4a-a6dc-39d3eb3ec682.xml\n",
      "/Users/nareshsaini/Desktop/pw/ocr-toolkit-ocr_toolkit/layout-model-training/data/prima/XML/29__00f15a28-c520-427c-916c-15c58b7f4b32__f6d0da07-02f1-4c3a-a619-efb5926fe786.xml\n",
      "/Users/nareshsaini/Desktop/pw/ocr-toolkit-ocr_toolkit/layout-model-training/data/prima/XML/10__5085b5fb-eb00-48a6-9727-c0b67fa41bb6__f5a4e468-8b3c-4d5c-98a4-edd4a25af9fa.xml\n",
      "/Users/nareshsaini/Desktop/pw/ocr-toolkit-ocr_toolkit/layout-model-training/data/prima/XML/12(1)__355b8a53-8c01-486d-ba3e-815ad99a4586__c4e14361-c64c-4f34-90f9-ec4bd221cb12.xml\n",
      "/Users/nareshsaini/Desktop/pw/ocr-toolkit-ocr_toolkit/layout-model-training/data/prima/XML/5__9e9cbfe2-0374-4bfd-839a-8c3b111d496c__2b473c06-38a3-4928-bed6-eb69d1650df0.xml\n",
      "/Users/nareshsaini/Desktop/pw/ocr-toolkit-ocr_toolkit/layout-model-training/data/prima/XML/48__c06e93ea-e9c5-48d8-bedd-fa535ddd1da4__a26eff77-95c1-4cc6-a353-c6d1645f63fe__333706e3-aabe-4bbe-a653-04d0773708ff.xml\n",
      "/Users/nareshsaini/Desktop/pw/ocr-toolkit-ocr_toolkit/layout-model-training/data/prima/XML/1__a34dea08-f4b1-4ea8-a5fb-e9e54b273260__9020171b-b089-46fd-b6c8-5360d5f75999.xml\n",
      "/Users/nareshsaini/Desktop/pw/ocr-toolkit-ocr_toolkit/layout-model-training/data/prima/XML/30__b348a5b5-624c-48ef-9424-e0111f7a2fa0__ecde7a37-65cd-4e1c-bb15-4d1c08147615.xml\n",
      "/Users/nareshsaini/Desktop/pw/ocr-toolkit-ocr_toolkit/layout-model-training/data/prima/XML/5__bab7ad91-32c8-4686-a410-fc974559006e__17408ea9-db91-473d-93a2-c6f091bdd83a.xml\n",
      "/Users/nareshsaini/Desktop/pw/ocr-toolkit-ocr_toolkit/layout-model-training/data/prima/XML/8__1808f7ff-86b0-4a4a-a2ef-c81d77755956__d3f124d1-3405-4dfe-98ee-517595f70773__4d4430c6-231c-41ca-85f6-bc16a3bd0cea.xml\n",
      "/Users/nareshsaini/Desktop/pw/ocr-toolkit-ocr_toolkit/layout-model-training/data/prima/XML/15__01ffa8e9-7ba8-463e-b0e1-08e5e3b772eb__af5e75a4-09a9-44d7-8dd7-32fbf797be7e__b23e7f69-0c3c-4430-bc9c-f2e160671922.xml\n",
      "/Users/nareshsaini/Desktop/pw/ocr-toolkit-ocr_toolkit/layout-model-training/data/prima/XML/11__5d361363-fb07-4337-b12f-5a035adb4498__c0595daf-093c-4127-8099-aec9a6402528.xml\n",
      "/Users/nareshsaini/Desktop/pw/ocr-toolkit-ocr_toolkit/layout-model-training/data/prima/XML/4__72dc69c3-39ea-48ff-9129-82a450ab53ca.xml\n",
      "/Users/nareshsaini/Desktop/pw/ocr-toolkit-ocr_toolkit/layout-model-training/data/prima/XML/2__a447e663-5bb9-4bf8-96c4-4ec34adb1bbe__9610d0b1-fde4-4de0-af1c-49992d378c8e__f23a90f5-92f8-484c-b49f-82b81ad10002.xml\n",
      "/Users/nareshsaini/Desktop/pw/ocr-toolkit-ocr_toolkit/layout-model-training/data/prima/XML/47__a7c08a65-1348-4cb6-940b-62c299cf61df__c22c7e19-afbf-423a-8264-b8b2f607e706__3ba15357-c525-4509-97c2-98133a0c9e59.xml\n",
      "/Users/nareshsaini/Desktop/pw/ocr-toolkit-ocr_toolkit/layout-model-training/data/prima/XML/1__66e9a042-5f6e-43a9-ba72-3f92c0a176c4__c20af547-a19d-4cf7-b4d1-9c61c6a8e616.xml\n",
      "/Users/nareshsaini/Desktop/pw/ocr-toolkit-ocr_toolkit/layout-model-training/data/prima/XML/12__117bf0ba-447c-446d-b475-af24dcd08269__905f1ced-80f3-4779-b8fa-dffe0c45840a__772290ea-b677-4d1e-9fd9-f3667fd2673a.xml\n",
      "/Users/nareshsaini/Desktop/pw/ocr-toolkit-ocr_toolkit/layout-model-training/data/prima/XML/16__e28ca477-36fb-4c37-b1b7-4be6c9ee2a4b__23851e38-935b-41be-ad73-4bb25e8f3244.xml\n",
      "/Users/nareshsaini/Desktop/pw/ocr-toolkit-ocr_toolkit/layout-model-training/data/prima/XML/37__c6eddd33-b216-40f8-b746-6a2b34aa2612__67025460-8859-4b1a-ae6b-ef8d8cdb55ca__d81dbb7e-ad6d-49b8-80ad-48b9550ef9d7.xml\n",
      "/Users/nareshsaini/Desktop/pw/ocr-toolkit-ocr_toolkit/layout-model-training/data/prima/XML/1__8eea413e-3c9f-437a-9f24-0142f87e2f49__4bba2bc2-e7cb-4820-af5b-9daef6e39683.xml\n",
      "/Users/nareshsaini/Desktop/pw/ocr-toolkit-ocr_toolkit/layout-model-training/data/prima/XML/4__f83897f2-e681-4d56-b2e0-0824e36fad0c__8ee66e66-b9d0-4e87-94f6-6d3b5634276d__d5ca5048-b6a4-4da6-9e51-446db79b115d.xml\n",
      "/Users/nareshsaini/Desktop/pw/ocr-toolkit-ocr_toolkit/layout-model-training/data/prima/XML/1__95fe118d-4a87-4a3b-9afb-60d2abe9f431__13fff9a3-5f75-4c1d-a37c-2a7ec46765c7__0d697443-32fd-4d24-abf9-6b3334681b8c.xml\n",
      "/Users/nareshsaini/Desktop/pw/ocr-toolkit-ocr_toolkit/layout-model-training/data/prima/XML/2__a9e2791c-3c35-49cc-af8b-314d612ce46d__656038e0-5c79-4a06-9279-1a0cedaaaf39.xml\n",
      "/Users/nareshsaini/Desktop/pw/ocr-toolkit-ocr_toolkit/layout-model-training/data/prima/XML/1__912bbe2f-47b3-43b2-bded-809f2ed267d0__7c36f5bb-b763-47d1-8d2c-2d13a454a2d9.xml\n",
      "/Users/nareshsaini/Desktop/pw/ocr-toolkit-ocr_toolkit/layout-model-training/data/prima/XML/11__59047c87-273e-4d64-8956-bf2b2b0bf86d.xml\n",
      "/Users/nareshsaini/Desktop/pw/ocr-toolkit-ocr_toolkit/layout-model-training/data/prima/XML/24__b8377e3d-4415-48b1-a5c2-f84031af3570__a7638e1f-47b0-47bd-b6dd-795f258a8c95.xml\n",
      "/Users/nareshsaini/Desktop/pw/ocr-toolkit-ocr_toolkit/layout-model-training/data/prima/XML/6__b705399b-5fdd-420e-8138-eb6c99af0acd__8ad0b986-8be7-4340-ad32-5a4423bc8181.xml\n",
      "/Users/nareshsaini/Desktop/pw/ocr-toolkit-ocr_toolkit/layout-model-training/data/prima/XML/6(1)__cd1593fb-ddee-4d3e-8c34-eaa64fed3157.xml\n",
      "/Users/nareshsaini/Desktop/pw/ocr-toolkit-ocr_toolkit/layout-model-training/data/prima/XML/53__b68faa7f-8066-4435-ac7e-2af30947511e__e3ed1abf-da1b-43f6-90dc-48b1f1886c99__f124d00d-dc01-4c43-be71-a07066f2fef2.xml\n",
      "/Users/nareshsaini/Desktop/pw/ocr-toolkit-ocr_toolkit/layout-model-training/data/prima/XML/7__23bf3590-aaa2-4a53-b550-8132be0423cc__088321c2-310f-4a01-b877-a03ab9e38ed6.xml\n",
      "/Users/nareshsaini/Desktop/pw/ocr-toolkit-ocr_toolkit/layout-model-training/data/prima/XML/15__59d7423d-eabf-4ebc-a6d1-7097c1846d0d__d5eaef0b-6f54-4008-a123-d42de555a417.xml\n",
      "/Users/nareshsaini/Desktop/pw/ocr-toolkit-ocr_toolkit/layout-model-training/data/prima/XML/13__3e6b237c-e5fd-4b94-a4a5-55c843efeafe__cef8b55e-77a4-4380-a7ad-7b920c968641__9a06ab51-2674-4bd9-8212-39b2700802b1.xml\n",
      "/Users/nareshsaini/Desktop/pw/ocr-toolkit-ocr_toolkit/layout-model-training/data/prima/XML/6__0d65dab7-2eb8-4fcd-9113-e387b5b94597__b6d5cadc-e475-4deb-b0ea-b724096c02c2.xml\n",
      "/Users/nareshsaini/Desktop/pw/ocr-toolkit-ocr_toolkit/layout-model-training/data/prima/XML/16__c5ca4ac7-6492-4f80-947c-05d250eab04a__544f2eca-fd38-4e41-b49a-db9e882bfcba__149d134c-d32b-480b-ba8c-1c81e6b8ecda.xml\n",
      "/Users/nareshsaini/Desktop/pw/ocr-toolkit-ocr_toolkit/layout-model-training/data/prima/XML/2__44be34ab-5fc3-45a2-80c3-3f1e5ff3bc93__d64d022f-1529-4925-a493-8401b9b121ff.xml\n",
      "/Users/nareshsaini/Desktop/pw/ocr-toolkit-ocr_toolkit/layout-model-training/data/prima/XML/38__f9ddfdba-b5ed-4931-80ef-88f1dc629927__c882a29a-6c34-4e18-85b1-a8f0aa29711b.xml\n",
      "/Users/nareshsaini/Desktop/pw/ocr-toolkit-ocr_toolkit/layout-model-training/data/prima/XML/1__6244f478-044a-4ff6-9892-1ef2a7cddd9d__faf63d1a-5797-4f94-90cb-0399f2219caa__ec1077a0-c932-4d7a-98e8-e866f984050e.xml\n",
      "/Users/nareshsaini/Desktop/pw/ocr-toolkit-ocr_toolkit/layout-model-training/data/prima/XML/9__ff50d5b2-f1fa-4fa3-af07-9853d941026d__3e5f53e1-6da4-4bec-9c89-f8cc8cbc2b00.xml\n",
      "/Users/nareshsaini/Desktop/pw/ocr-toolkit-ocr_toolkit/layout-model-training/data/prima/XML/49__67b86e3c-de0d-40f8-a529-ff42b9e65b9e__9c6ea81c-3afc-4cf6-bbaa-05c2ef97007e__f1612dc2-0574-45ce-a313-b956adb35b55.xml\n",
      "/Users/nareshsaini/Desktop/pw/ocr-toolkit-ocr_toolkit/layout-model-training/data/prima/XML/13(1)__a80181d9-81d1-436b-a25d-ca2c355e84b6__5030661d-be88-4c72-8f88-73809c0be65a.xml\n",
      "/Users/nareshsaini/Desktop/pw/ocr-toolkit-ocr_toolkit/layout-model-training/data/prima/XML/12__b14adbdf-a823-44d5-b8d6-61c86a9a427c__20ce50f4-e8f6-4d5e-8087-83469c3c1d41.xml\n",
      "/Users/nareshsaini/Desktop/pw/ocr-toolkit-ocr_toolkit/layout-model-training/data/prima/XML/28__7097c928-60f9-44b4-ae0d-94127d0d4da9__8e703a07-0ecf-4794-b412-9f482f860d46.xml\n",
      "/Users/nareshsaini/Desktop/pw/ocr-toolkit-ocr_toolkit/layout-model-training/data/prima/XML/10__075e6131-0f15-47b1-9896-2023953df4aa__0ed7b3ac-d103-42f5-9b79-d20a3dc7cf72.xml\n",
      "/Users/nareshsaini/Desktop/pw/ocr-toolkit-ocr_toolkit/layout-model-training/data/prima/XML/7__d7d29dbc-d849-40b3-b370-d52a99dff0cb__2357ed78-d2b4-4c1d-824a-ea853ed80c81.xml\n",
      "/Users/nareshsaini/Desktop/pw/ocr-toolkit-ocr_toolkit/layout-model-training/data/prima/XML/46__63d38208-6140-4acf-b22d-ed6f21d2e12c__383bb78c-7c49-42ac-8c5b-4393b521bc9b__5277ea66-f5b6-4209-bee4-3db0eb4c71be.xml\n",
      "/Users/nareshsaini/Desktop/pw/ocr-toolkit-ocr_toolkit/layout-model-training/data/prima/XML/3__135ce9af-bf57-4a1d-95ba-5a54599bc532__b43adac0-0d1b-4d62-a039-5ee2cdc641c1.xml\n",
      "/Users/nareshsaini/Desktop/pw/ocr-toolkit-ocr_toolkit/layout-model-training/data/prima/XML/31__c4f06342-47ea-4ad6-8d10-ffeb6bed9119__155cc220-ca76-4757-8ed4-322bcdf0f40a__24c6275e-8bef-47ba-8b6a-02fa23ddd578.xml\n",
      "/Users/nareshsaini/Desktop/pw/ocr-toolkit-ocr_toolkit/layout-model-training/data/prima/XML/3__403af7c5-a78a-476e-87ee-4201c7f41016__82df37a8-be32-43bb-a714-a5d9ebdf2af5.xml\n",
      "/Users/nareshsaini/Desktop/pw/ocr-toolkit-ocr_toolkit/layout-model-training/data/prima/XML/5__d16ca6c0-dc60-4ec3-a17c-2a68712574d8.xml\n",
      "/Users/nareshsaini/Desktop/pw/ocr-toolkit-ocr_toolkit/layout-model-training/data/prima/XML/28__b5f23e26-8ae3-4ab0-9816-4e86e4463e33__654c83d6-45df-429d-8349-fcbe92bef6d4__4d086dc4-2bb4-4cb7-9550-f113ee5c4807.xml\n",
      "/Users/nareshsaini/Desktop/pw/ocr-toolkit-ocr_toolkit/layout-model-training/data/prima/XML/14__5440c2d0-f88f-4704-805c-d61533b95efa__1b201331-433f-4c9a-b540-800170427454__c7237991-0454-4532-ad62-2184e8442506.xml\n",
      "/Users/nareshsaini/Desktop/pw/ocr-toolkit-ocr_toolkit/layout-model-training/data/prima/XML/3__b8688711-0d78-4327-8209-b57ac4013a38__5a9c41ab-9fb1-46cd-94d8-5f25fb2ba3a5__100b26fa-df1b-4da3-925f-5e29e3f1a9d3.xml\n",
      "/Users/nareshsaini/Desktop/pw/ocr-toolkit-ocr_toolkit/layout-model-training/data/prima/XML/5__6a7f4aa2-52b7-46ca-a62d-e338eef8c2bf__e4e0b77b-d30e-45ac-96e5-106ee19949a8.xml\n",
      "/Users/nareshsaini/Desktop/pw/ocr-toolkit-ocr_toolkit/layout-model-training/data/prima/XML/4__e14b277d-20b4-4679-bfdf-87a4ed492bfc__a5a82266-b69b-49b1-b0c1-7cd670dbd80d__5e5f6c17-8ad5-4ab4-9a85-81ed5f555881.xml\n",
      "/Users/nareshsaini/Desktop/pw/ocr-toolkit-ocr_toolkit/layout-model-training/data/prima/XML/52__5885303e-4af4-4890-b43a-712e05c937b9__cff12a1e-b14a-4f26-aa4b-b510914ed824__ab7cf4cd-ee11-416e-a892-5a436e237fa5.xml\n",
      "/Users/nareshsaini/Desktop/pw/ocr-toolkit-ocr_toolkit/layout-model-training/data/prima/XML/2__a4f15e09-4f98-46c5-b290-f13de4d4cb35__b3dc5ab8-0eb8-4801-9b78-d85f9bee09ab__2cb49972-d76a-454d-984b-31c164e9735e.xml\n",
      "/Users/nareshsaini/Desktop/pw/ocr-toolkit-ocr_toolkit/layout-model-training/data/prima/XML/13__8e82ad7f-d1e3-41c4-94f4-6b8dc2c48500__fc8fe7db-3660-427b-9f60-41c3a8ccbeeb__b1c9265d-30de-47a0-ba24-da7da0d2d03d.xml\n",
      "/Users/nareshsaini/Desktop/pw/ocr-toolkit-ocr_toolkit/layout-model-training/data/prima/XML/33__5a94cdc0-1eaa-403a-b627-b9306c840a62__a41c9b49-4661-46b9-98c9-13e7307aaf6a.xml\n"
     ]
    }
   ],
   "source": [
    "xml_path=\"/Users/nareshsaini/Desktop/pw/ocr-toolkit-ocr_toolkit/layout-model-training/data/prima/XML/\"\n",
    "\n",
    "update_xml(xml_path)"
   ]
  },
  {
   "cell_type": "markdown",
   "id": "a8d57753",
   "metadata": {},
   "source": [
    "# create txt file "
   ]
  },
  {
   "cell_type": "code",
   "execution_count": 129,
   "id": "370bce95",
   "metadata": {},
   "outputs": [],
   "source": [
    "annotation_path=\"/Users/nareshsaini/Desktop/pw/ocr-toolkit-ocr_toolkit/layout-model-training/data/prima/Annotations/*.xml\"\n",
    "annotation_txt_path = \"/Users/nareshsaini/Desktop/pw/ocr-toolkit-ocr_toolkit/layout-model-training/voc2coco/annpaths_list.txt\"\n",
    "def create_anno_path(data_path,annotation_txt_path):\n",
    "    f=open(annotation_txt_path,\"w\")\n",
    "    for xml in glob.glob(data_path):\n",
    "        f.write(xml+\"\\n\")\n",
    "    \n"
   ]
  },
  {
   "cell_type": "code",
   "execution_count": 130,
   "id": "1cd48d9a",
   "metadata": {},
   "outputs": [],
   "source": [
    "create_anno_path(annotation_path,annotation_txt_path)"
   ]
  },
  {
   "cell_type": "code",
   "execution_count": null,
   "id": "00d55143",
   "metadata": {},
   "outputs": [],
   "source": []
  }
 ],
 "metadata": {
  "kernelspec": {
   "display_name": "ocr2",
   "language": "python",
   "name": "ocr2"
  },
  "language_info": {
   "codemirror_mode": {
    "name": "ipython",
    "version": 3
   },
   "file_extension": ".py",
   "mimetype": "text/x-python",
   "name": "python",
   "nbconvert_exporter": "python",
   "pygments_lexer": "ipython3",
   "version": "3.9.13"
  }
 },
 "nbformat": 4,
 "nbformat_minor": 5
}
